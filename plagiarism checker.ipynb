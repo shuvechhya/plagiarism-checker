{
 "cells": [
  {
   "cell_type": "code",
   "execution_count": 49,
   "id": "1b2667e7",
   "metadata": {},
   "outputs": [],
   "source": [
    "import tkinter as tk\n",
    "from tkinter import scrolledtext, messagebox\n",
    "from sklearn.feature_extraction.text import TfidfVectorizer\n",
    "from sklearn.metrics.pairwise import cosine_similarity\n",
    "import csv\n",
    "\n"
   ]
  },
  {
   "cell_type": "code",
   "execution_count": 50,
   "id": "81b1cf35",
   "metadata": {},
   "outputs": [],
   "source": [
    "class PlagiarismDetector:\n",
    "    def __init__(self, csv_file_path):\n",
    "        self.csv_file_path = csv_file_path\n",
    "        self.vectorizer = TfidfVectorizer()\n",
    "        self.tfidf_matrix = None\n",
    "        self.unique_ids = None\n",
    "        self.load_data()\n",
    "\n",
    "    def load_data(self):\n",
    "        with open(self.csv_file_path, 'r') as f:\n",
    "            reader = csv.reader(f)\n",
    "            csv_data = list(reader)\n",
    "\n",
    "        header = csv_data.pop(0)\n",
    "        self.unique_ids = [row[0] for row in csv_data]\n",
    "        texts = [row[1] for row in csv_data]\n",
    "        self.tfidf_matrix = self.vectorizer.fit_transform(texts)\n",
    "\n",
    "    def check_plagiarism(self, input_text, threshold=0.8):\n",
    "        input_vector = self.vectorizer.transform([input_text])\n",
    "\n",
    "        plagiarism_detected = False\n",
    "        for id_a, text_vector_a in zip(self.unique_ids, self.tfidf_matrix):\n",
    "            sim_score = cosine_similarity(text_vector_a, input_vector)\n",
    "            if sim_score[0][0] > threshold:\n",
    "                plagiarism_detected = True\n",
    "                break\n",
    "\n",
    "        return plagiarism_detected\n",
    "\n"
   ]
  },
  {
   "cell_type": "code",
   "execution_count": 51,
   "id": "8c7626ac",
   "metadata": {},
   "outputs": [],
   "source": [
    "class PlagiarismApp:\n",
    "    def __init__(self, master):\n",
    "        self.master = master\n",
    "        master.title(\"Plagiarism Detection\")\n",
    "\n",
    "        self.detector = PlagiarismDetector('msrp-annotations.csv')\n",
    "\n",
    "        self.input_text_area = scrolledtext.ScrolledText(master, width=40, height=10, wrap=tk.WORD)\n",
    "        self.input_text_area.pack(pady=10)\n",
    "\n",
    "        self.check_button = tk.Button(master, text=\"Check Plagiarism\", command=self.check_plagiarism)\n",
    "        self.check_button.pack()\n",
    "\n",
    "    def check_plagiarism(self):\n",
    "        input_text = self.input_text_area.get(\"1.0\", \"end-1c\")\n",
    "        plagiarism_detected = self.detector.check_plagiarism(input_text)\n",
    "\n",
    "        if plagiarism_detected:\n",
    "            messagebox.showinfo(\"Plagiarism Detection\", \"Plagiarism Detected!\")\n",
    "        else:\n",
    "            messagebox.showinfo(\"Plagiarism Detection\", \"No Plagiarism Detected.\")\n",
    "\n"
   ]
  },
  {
   "cell_type": "code",
   "execution_count": 53,
   "id": "ea1da657",
   "metadata": {},
   "outputs": [],
   "source": [
    "if __name__ == \"__main__\":\n",
    "    root = tk.Tk()\n",
    "    app = PlagiarismApp(root)\n",
    "    root.mainloop()\n"
   ]
  },
  {
   "cell_type": "code",
   "execution_count": null,
   "id": "ce8d217c",
   "metadata": {},
   "outputs": [],
   "source": []
  }
 ],
 "metadata": {
  "kernelspec": {
   "display_name": "Python 3 (ipykernel)",
   "language": "python",
   "name": "python3"
  },
  "language_info": {
   "codemirror_mode": {
    "name": "ipython",
    "version": 3
   },
   "file_extension": ".py",
   "mimetype": "text/x-python",
   "name": "python",
   "nbconvert_exporter": "python",
   "pygments_lexer": "ipython3",
   "version": "3.10.9"
  }
 },
 "nbformat": 4,
 "nbformat_minor": 5
}
